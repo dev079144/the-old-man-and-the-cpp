{
 "cells": [
  {
   "cell_type": "code",
   "execution_count": null,
   "id": "195821c3",
   "metadata": {},
   "outputs": [
    {
     "name": "stdout",
     "output_type": "stream",
     "text": [
      "['Jim', 'Gilmore', 'came', 'to', 'Hortons', 'Bay', 'from', 'Canada.', 'He', 'bought']\n",
      "{('J', 'i'): 1, ('i', 'm'): 1, ('G', 'i'): 1, ('i', 'l'): 1, ('l', 'm'): 1, ('m', 'o'): 1, ('o', 'r'): 2, ('r', 'e'): 1, ('c', 'a'): 1, ('a', 'm'): 1, ('m', 'e'): 1, ('t', 'o'): 2, ('H', 'o'): 1, ('r', 't'): 1, ('o', 'n'): 1, ('n', 's'): 1, ('B', 'a'): 1, ('a', 'y'): 1, ('f', 'r'): 1, ('r', 'o'): 1, ('o', 'm'): 1, ('C', 'a'): 1, ('a', 'n'): 1, ('n', 'a'): 1, ('a', 'd'): 1, ('d', 'a'): 1, ('a', '.'): 1, ('H', 'e'): 1, ('b', 'o'): 1, ('o', 'u'): 1, ('u', 'g'): 1, ('g', 'h'): 1, ('h', 't'): 1}\n"
     ]
    }
   ],
   "source": [
    "corpus_path = '../data/hemingway_processed.txt'\n",
    "\n",
    "with open(corpus_path, 'r', encoding='utf-8') as f:\n",
    "    corpus = f.read()\n",
    "\n",
    "words = corpus.split()\n",
    "\n",
    "def get_pairs(words):\n",
    "    pairs = {}\n",
    "    for word in words:\n",
    "        chars = list(word)\n",
    "        for pair in zip(chars, chars[1:]):  # Possible edge case at last character?\n",
    "            pairs[pair] = pairs.get(pair, 0) + 1\n",
    "    \n",
    "    return pairs\n",
    "\n",
    "# def merge(words, pair, replacement):\n",
    "#     merged = []\n",
    "\n",
    "#     for word in words:\n",
    "        \n",
    "\n"
   ]
  }
 ],
 "metadata": {
  "kernelspec": {
   "display_name": ".venv",
   "language": "python",
   "name": "python3"
  },
  "language_info": {
   "codemirror_mode": {
    "name": "ipython",
    "version": 3
   },
   "file_extension": ".py",
   "mimetype": "text/x-python",
   "name": "python",
   "nbconvert_exporter": "python",
   "pygments_lexer": "ipython3",
   "version": "3.12.1"
  }
 },
 "nbformat": 4,
 "nbformat_minor": 5
}
