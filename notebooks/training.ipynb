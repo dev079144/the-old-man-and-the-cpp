{
 "cells": [
  {
   "cell_type": "code",
   "execution_count": 5,
   "id": "195821c3",
   "metadata": {},
   "outputs": [
    {
     "name": "stdout",
     "output_type": "stream",
     "text": [
      "[' ', 't'] 29176\n",
      "['h', 'e'] 27346\n",
      "['t', 'h'] 24020\n",
      "[' ', 'a'] 20952\n",
      "[' ', 'w'] 15853\n",
      "['i', 'n'] 14911\n",
      "[' ', 's'] 14684\n",
      "['a', 'n'] 14544\n",
      "['e', 'r'] 13039\n",
      "['o', 'u'] 11467\n",
      "[' ', 'h'] 11355\n"
     ]
    },
    {
     "ename": "KeyboardInterrupt",
     "evalue": "",
     "output_type": "error",
     "traceback": [
      "\u001b[31m---------------------------------------------------------------------------\u001b[39m",
      "\u001b[31mKeyboardInterrupt\u001b[39m                         Traceback (most recent call last)",
      "\u001b[36mCell\u001b[39m\u001b[36m \u001b[39m\u001b[32mIn[5]\u001b[39m\u001b[32m, line 11\u001b[39m\n\u001b[32m      8\u001b[39m \u001b[38;5;28;01mwith\u001b[39;00m \u001b[38;5;28mopen\u001b[39m(corpus_path, \u001b[33m'\u001b[39m\u001b[33mr\u001b[39m\u001b[33m'\u001b[39m, encoding=\u001b[33m'\u001b[39m\u001b[33mutf-8\u001b[39m\u001b[33m'\u001b[39m) \u001b[38;5;28;01mas\u001b[39;00m f:\n\u001b[32m      9\u001b[39m     corpus = f.read()\n\u001b[32m---> \u001b[39m\u001b[32m11\u001b[39m tokenized_corpus, vocabulary = \u001b[43mtokenize\u001b[49m\u001b[43m(\u001b[49m\u001b[43mcorpus\u001b[49m\u001b[43m,\u001b[49m\u001b[43m \u001b[49m\u001b[32;43m4000\u001b[39;49m\u001b[43m)\u001b[49m\n",
      "\u001b[36mFile \u001b[39m\u001b[32m/workspaces/the-old-man-and-the-cpp/src/utils.py:75\u001b[39m, in \u001b[36mtokenize\u001b[39m\u001b[34m(dataset, vocab_size, vocabulary_output_path, corpus_output_path)\u001b[39m\n\u001b[32m     73\u001b[39m \u001b[38;5;28;01mfor\u001b[39;00m idx, token \u001b[38;5;129;01min\u001b[39;00m \u001b[38;5;28menumerate\u001b[39m(tokens):\n\u001b[32m     74\u001b[39m     occs = [i \u001b[38;5;28;01mfor\u001b[39;00m i \u001b[38;5;129;01min\u001b[39;00m \u001b[38;5;28mrange\u001b[39m(\u001b[38;5;28mlen\u001b[39m(token) - \u001b[38;5;28mlen\u001b[39m(pair) + \u001b[32m1\u001b[39m) \u001b[38;5;28;01mif\u001b[39;00m token[i:i+\u001b[38;5;28mlen\u001b[39m(pair)] == pair]\n\u001b[32m---> \u001b[39m\u001b[32m75\u001b[39m     \u001b[38;5;28;01mfor\u001b[39;00m occ \u001b[38;5;129;01min\u001b[39;00m occs:\n\u001b[32m     76\u001b[39m         new_tokens[idx][occ:occ+\u001b[38;5;28mlen\u001b[39m(pair)] = [merged_token]\n\u001b[32m     78\u001b[39m vocab.append(merged_token)\n",
      "\u001b[31mKeyboardInterrupt\u001b[39m: "
     ]
    }
   ],
   "source": [
    "import sys\n",
    "import os\n",
    "sys.path.append(os.path.abspath('../src'))\n",
    "from utils import tokenize\n",
    "\n",
    "corpus_path = '../data/hemingway_clean.txt'\n",
    "\n",
    "with open(corpus_path, 'r', encoding='utf-8') as f:\n",
    "    corpus = f.read()\n",
    "\n",
    "tokenized_corpus, vocabulary = tokenize(corpus, 4000)\n"
   ]
  }
 ],
 "metadata": {
  "kernelspec": {
   "display_name": ".venv (3.12.1)",
   "language": "python",
   "name": "python3"
  },
  "language_info": {
   "codemirror_mode": {
    "name": "ipython",
    "version": 3
   },
   "file_extension": ".py",
   "mimetype": "text/x-python",
   "name": "python",
   "nbconvert_exporter": "python",
   "pygments_lexer": "ipython3",
   "version": "3.12.1"
  }
 },
 "nbformat": 4,
 "nbformat_minor": 5
}
