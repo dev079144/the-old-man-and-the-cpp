{
 "cells": [
  {
   "cell_type": "code",
   "execution_count": null,
   "id": "195821c3",
   "metadata": {},
   "outputs": [],
   "source": [
    "import sys\n",
    "import os\n",
    "sys.path.append(os.path.abspath('../src'))\n",
    "import numpy as np\n",
    "from config import context_size, batch_size, embedding_dimension, scale_factor, vocabulary_size"
   ]
  },
  {
   "cell_type": "code",
   "execution_count": null,
   "id": "0c761379",
   "metadata": {},
   "outputs": [],
   "source": [
    "from utils import tokenize, clean\n",
    "\n",
    "clean('../data/raw_corpus.txt', '../data/clean_corpus.txt')\n",
    "\n",
    "with open('../data/clean_corpus.txt', 'r', encoding='utf-8') as f:\n",
    "    corpus = f.read()\n",
    "\n",
    "tokenize(corpus, vocabulary_size)"
   ]
  },
  {
   "cell_type": "code",
   "execution_count": null,
   "id": "b3c3f5cf",
   "metadata": {},
   "outputs": [],
   "source": [
    "tokenized_corpus = np.load('../data/tokenized_corpus_ids.npy')\n",
    "\n",
    "sequences = len(tokenized_corpus) - context_size\n",
    "\n",
    "x = np.array([tokenized_corpus[i:i+context_size] for i in range(sequences)])\n",
    "y = np.array([tokenized_corpus[i+1:i+context_size+1] for i in range(sequences)])\n",
    "\n",
    "batches = len(x) // batch_size\n",
    "\n",
    "x_batches = np.array_split(x[:batches*batch_size], batches)\n",
    "y_batches = np.array_split(y[:batches*batch_size], batches)\n",
    "\n",
    "# TODO: Encode position ...\n",
    "embedding_matrix = np.random.randn(vocabulary_size, embedding_dimension) * scale_factor\n",
    "\n",
    "# Example: 0th batch\n",
    "embedded_batch = embedding_matrix[x_batches[0]]  # How does this NumPy indexing work?"
   ]
  }
 ],
 "metadata": {
  "kernelspec": {
   "display_name": ".venv (3.12.1)",
   "language": "python",
   "name": "python3"
  },
  "language_info": {
   "codemirror_mode": {
    "name": "ipython",
    "version": 3
   },
   "file_extension": ".py",
   "mimetype": "text/x-python",
   "name": "python",
   "nbconvert_exporter": "python",
   "pygments_lexer": "ipython3",
   "version": "3.12.1"
  }
 },
 "nbformat": 4,
 "nbformat_minor": 5
}
