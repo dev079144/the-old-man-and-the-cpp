{
 "cells": [
  {
   "cell_type": "code",
   "execution_count": null,
   "id": "195821c3",
   "metadata": {
    "vscode": {
     "languageId": "plaintext"
    }
   },
   "outputs": [],
   "source": [
    "\"Hello World\""
   ]
  }
 ],
 "metadata": {
  "language_info": {
   "name": "python"
  }
 },
 "nbformat": 4,
 "nbformat_minor": 5
}
